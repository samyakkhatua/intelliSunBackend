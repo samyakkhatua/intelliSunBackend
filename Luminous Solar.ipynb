{
 "cells": [
  {
   "cell_type": "code",
   "execution_count": 1,
   "id": "9aa6bce8",
   "metadata": {},
   "outputs": [
    {
     "name": "stdout",
     "output_type": "stream",
     "text": [
      "Hi, I am making this project.\n"
     ]
    }
   ],
   "source": [
    "print(\"Hi, I am making this project.\")"
   ]
  },
  {
   "cell_type": "code",
   "execution_count": 3,
   "id": "249dc022",
   "metadata": {},
   "outputs": [
    {
     "name": "stdout",
     "output_type": "stream",
     "text": [
      "2\n",
      "3\n",
      "1\n",
      "['3', '1']\n"
     ]
    }
   ],
   "source": [
    "user_input = int(input())  # Read number of item in list\n",
    "user_list = []\n",
    "for i in range(user_input):\n",
    "    value = input()\n",
    "    user_list.append(value)\n",
    "print(user_list)"
   ]
  },
  {
   "cell_type": "code",
   "execution_count": null,
   "id": "8faa2e05",
   "metadata": {},
   "outputs": [],
   "source": []
  }
 ],
 "metadata": {
  "kernelspec": {
   "display_name": "Python 3 (ipykernel)",
   "language": "python",
   "name": "python3"
  },
  "language_info": {
   "codemirror_mode": {
    "name": "ipython",
    "version": 3
   },
   "file_extension": ".py",
   "mimetype": "text/x-python",
   "name": "python",
   "nbconvert_exporter": "python",
   "pygments_lexer": "ipython3",
   "version": "3.11.2"
  }
 },
 "nbformat": 4,
 "nbformat_minor": 5
}
